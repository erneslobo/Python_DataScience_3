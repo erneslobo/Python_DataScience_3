{
 "cells": [
  {
   "cell_type": "code",
   "execution_count": 13,
   "metadata": {},
   "outputs": [],
   "source": [
    "import numpy as np\n",
    "import pandas as pd\n",
    "import random as rd\n",
    "from datetime import datetime, date, time, timedelta\n"
   ]
  },
  {
   "cell_type": "code",
   "execution_count": 27,
   "metadata": {},
   "outputs": [],
   "source": [
    "dt = datetime(2019, 1, 1, 0, 0, 0)\n",
    "lNumeros = [88888888,71010000,61000011]\n",
    "\n",
    "def horasAleatoria(): \n",
    "    return rd.randrange(1,25)*3600\n",
    "\n",
    "def buscarNumero():\n",
    "    return lNumeros[rd.randrange(0,3)] \n",
    "\n",
    "def duracionLlamada():\n",
    "    return rd.randrange(100,1001)\n",
    "\n"
   ]
  },
  {
   "cell_type": "code",
   "execution_count": 28,
   "metadata": {},
   "outputs": [
    {
     "data": {
      "text/plain": [
       "[[datetime.datetime(2019, 1, 1, 0, 0), 71010000, 915],\n",
       " [datetime.datetime(2019, 1, 1, 1, 6, 56), 61000011, 416],\n",
       " [datetime.datetime(2019, 1, 1, 22, 22, 31), 88888888, 935],\n",
       " [datetime.datetime(2019, 1, 1, 23, 26, 33), 71010000, 242],\n",
       " [datetime.datetime(2019, 1, 2, 22, 40, 3), 61000011, 810],\n",
       " [datetime.datetime(2019, 1, 3, 4, 45, 53), 61000011, 350],\n",
       " [datetime.datetime(2019, 1, 3, 12, 53, 12), 88888888, 439],\n",
       " [datetime.datetime(2019, 1, 4, 11, 3, 38), 71010000, 626],\n",
       " [datetime.datetime(2019, 1, 5, 0, 11, 8), 88888888, 450],\n",
       " [datetime.datetime(2019, 1, 6, 0, 18, 26), 61000011, 438]]"
      ]
     },
     "execution_count": 28,
     "metadata": {},
     "output_type": "execute_result"
    }
   ],
   "source": [
    "listaLlamadas = []\n",
    "for i in range(0,10):\n",
    "    duracion = duracionLlamada()\n",
    "    deltaDuracion = timedelta(0,duracion)\n",
    "    deltaHoras = timedelta(0,horasAleatoria())\n",
    "    numero = buscarNumero()\n",
    "    if i == 0:\n",
    "        llamada = [dt,numero,duracion]\n",
    "    else:\n",
    "        dt = dt+deltaDuracion+deltaHoras\n",
    "        llamada = [dt,numero,duracion]\n",
    "    listaLlamadas.append(llamada)\n",
    "listaLlamadas   \n",
    "\n",
    "\n",
    "    "
   ]
  },
  {
   "cell_type": "code",
   "execution_count": 31,
   "metadata": {},
   "outputs": [
    {
     "data": {
      "text/html": [
       "<div>\n",
       "<style scoped>\n",
       "    .dataframe tbody tr th:only-of-type {\n",
       "        vertical-align: middle;\n",
       "    }\n",
       "\n",
       "    .dataframe tbody tr th {\n",
       "        vertical-align: top;\n",
       "    }\n",
       "\n",
       "    .dataframe thead th {\n",
       "        text-align: right;\n",
       "    }\n",
       "</style>\n",
       "<table border=\"1\" class=\"dataframe\">\n",
       "  <thead>\n",
       "    <tr style=\"text-align: right;\">\n",
       "      <th></th>\n",
       "      <th>Fecha</th>\n",
       "      <th>Numero</th>\n",
       "      <th>Duracion</th>\n",
       "    </tr>\n",
       "  </thead>\n",
       "  <tbody>\n",
       "    <tr>\n",
       "      <th>0</th>\n",
       "      <td>2019-01-01 00:00:00</td>\n",
       "      <td>71010000</td>\n",
       "      <td>915</td>\n",
       "    </tr>\n",
       "    <tr>\n",
       "      <th>1</th>\n",
       "      <td>2019-01-01 01:06:56</td>\n",
       "      <td>61000011</td>\n",
       "      <td>416</td>\n",
       "    </tr>\n",
       "    <tr>\n",
       "      <th>2</th>\n",
       "      <td>2019-01-01 22:22:31</td>\n",
       "      <td>88888888</td>\n",
       "      <td>935</td>\n",
       "    </tr>\n",
       "    <tr>\n",
       "      <th>3</th>\n",
       "      <td>2019-01-01 23:26:33</td>\n",
       "      <td>71010000</td>\n",
       "      <td>242</td>\n",
       "    </tr>\n",
       "    <tr>\n",
       "      <th>4</th>\n",
       "      <td>2019-01-02 22:40:03</td>\n",
       "      <td>61000011</td>\n",
       "      <td>810</td>\n",
       "    </tr>\n",
       "    <tr>\n",
       "      <th>5</th>\n",
       "      <td>2019-01-03 04:45:53</td>\n",
       "      <td>61000011</td>\n",
       "      <td>350</td>\n",
       "    </tr>\n",
       "    <tr>\n",
       "      <th>6</th>\n",
       "      <td>2019-01-03 12:53:12</td>\n",
       "      <td>88888888</td>\n",
       "      <td>439</td>\n",
       "    </tr>\n",
       "    <tr>\n",
       "      <th>7</th>\n",
       "      <td>2019-01-04 11:03:38</td>\n",
       "      <td>71010000</td>\n",
       "      <td>626</td>\n",
       "    </tr>\n",
       "    <tr>\n",
       "      <th>8</th>\n",
       "      <td>2019-01-05 00:11:08</td>\n",
       "      <td>88888888</td>\n",
       "      <td>450</td>\n",
       "    </tr>\n",
       "    <tr>\n",
       "      <th>9</th>\n",
       "      <td>2019-01-06 00:18:26</td>\n",
       "      <td>61000011</td>\n",
       "      <td>438</td>\n",
       "    </tr>\n",
       "  </tbody>\n",
       "</table>\n",
       "</div>"
      ],
      "text/plain": [
       "                Fecha    Numero  Duracion\n",
       "0 2019-01-01 00:00:00  71010000       915\n",
       "1 2019-01-01 01:06:56  61000011       416\n",
       "2 2019-01-01 22:22:31  88888888       935\n",
       "3 2019-01-01 23:26:33  71010000       242\n",
       "4 2019-01-02 22:40:03  61000011       810\n",
       "5 2019-01-03 04:45:53  61000011       350\n",
       "6 2019-01-03 12:53:12  88888888       439\n",
       "7 2019-01-04 11:03:38  71010000       626\n",
       "8 2019-01-05 00:11:08  88888888       450\n",
       "9 2019-01-06 00:18:26  61000011       438"
      ]
     },
     "execution_count": 31,
     "metadata": {},
     "output_type": "execute_result"
    }
   ],
   "source": [
    "df = pd.DataFrame(listaLlamadas,columns=[\"Fecha\",\"Numero\",\"Duracion\"])\n",
    "df"
   ]
  },
  {
   "cell_type": "code",
   "execution_count": 34,
   "metadata": {},
   "outputs": [],
   "source": [
    "df.groupby?"
   ]
  },
  {
   "cell_type": "code",
   "execution_count": null,
   "metadata": {},
   "outputs": [],
   "source": []
  }
 ],
 "metadata": {
  "kernelspec": {
   "display_name": "Python 3",
   "language": "python",
   "name": "python3"
  },
  "language_info": {
   "codemirror_mode": {
    "name": "ipython",
    "version": 3
   },
   "file_extension": ".py",
   "mimetype": "text/x-python",
   "name": "python",
   "nbconvert_exporter": "python",
   "pygments_lexer": "ipython3",
   "version": "3.7.3"
  }
 },
 "nbformat": 4,
 "nbformat_minor": 2
}
